{
 "cells": [
  {
   "cell_type": "markdown",
   "metadata": {},
   "source": [
    "# Hyperalignment Tutorial\n",
    "\n",
    "This jupyter notebook is an example to use searchlight hyperalignment (Guntupalli et al., 2016) on fMRI movie data and benchmark its performance.\n",
    "\n",
    "In this example, we will use some minimal data from the Guntupalli et al. (2016) paper to save computation time.  This minimal dataset contains 3 subjects, 2 movie runs per subject, and left hemisphere data only.  The data have been preprocessed with motion correction, surface-based alignment, and denoising."
   ]
  },
  {
   "cell_type": "markdown",
   "metadata": {
    "collapsed": true
   },
   "source": [
    "## 0. Preparations\n",
    "\n",
    "We will use the docker image from https://github.com/Summer-MIND/mind-tools\n",
    "\n",
    "Reopen the container by typing\n",
    "```\n",
    "docker start MIND && docker attach MIND\n",
    "```\n",
    "in the command line. (Or\n",
    "```\n",
    "docker run -it -p 9999:9999 --name MIND -v ~/Desktop:/mnt ejolly/mind-tools\n",
    "```\n",
    "if you haven't used it before).\n",
    "\n",
    "Then, within the docker container, let's create the directory and download the tutorial data.\n",
    "```\n",
    "mkdir /mnt/hyperalignment\n",
    "cd /mnt/hyperalignment\n",
    "wget http://discovery.dartmouth.edu/~fma/hyper_data.tar.gz\n",
    "wget http://discovery.dartmouth.edu/~fma/hyperalignment_tutorial.ipynb\n",
    "tar xzvf hyper_data.tar.gz\n",
    "```\n",
    "\n",
    "Finally, prepare the python packages we will use. Here we will use python2 because PyMVPA dependency h5py is not compatible with python3.\n",
    "```\n",
    "source activate py27\n",
    "pip install h5py nibabel pprocess pymvpa2\n",
    "```\n",
    "\n",
    "After all these, you can start a jupyter notebook using\n",
    "```\n",
    "jupyter notebook --port=9999 --no-browser --ip=0.0.0.0 --allow-root\n",
    "```\n",
    "And copy the url from the terminal to your web browser."
   ]
  },
  {
   "cell_type": "markdown",
   "metadata": {},
   "source": [
    "## 1. Import python functions and classes"
   ]
  },
  {
   "cell_type": "code",
   "execution_count": 1,
   "metadata": {
    "collapsed": true
   },
   "outputs": [],
   "source": [
    "%matplotlib inline\n",
    "import numpy as np\n",
    "from scipy.spatial.distance import pdist, cdist\n",
    "from mvpa2.datasets.base import Dataset\n",
    "from mvpa2.mappers.zscore import zscore\n",
    "from mvpa2.misc.surfing.queryengine import SurfaceQueryEngine\n",
    "from mvpa2.algorithms.searchlight_hyperalignment import SearchlightHyperalignment\n",
    "from mvpa2.base.hdf5 import h5save, h5load\n",
    "# Alternatively, all those above can be imported using\n",
    "# from mvpa2.suite import *\n",
    "import matplotlib.pyplot as plt\n",
    "from mvpa2.support.nibabel.surf import read as read_surface"
   ]
  },
  {
   "cell_type": "markdown",
   "metadata": {},
   "source": [
    "## 2. Read data\n",
    "The data are read from numpy npy files and wrapped as Datasets. Features (vertices) are normalized to have unit variance."
   ]
  },
  {
   "cell_type": "code",
   "execution_count": 2,
   "metadata": {
    "collapsed": true
   },
   "outputs": [],
   "source": [
    "dss_train = []\n",
    "dss_test = []\n",
    "subjects = ['rid000005', 'rid000011', 'rid000014']\n",
    "\n",
    "for subj in subjects:\n",
    "    ds = Dataset(np.load('raiders/{subj}_run00_lh.npy'.format(subj=subj)))\n",
    "    ds.fa['node_indices'] = np.arange(ds.shape[1], dtype=int)\n",
    "    zscore(ds, chunks_attr=None)\n",
    "    dss_train.append(ds)\n",
    "    ds = Dataset(np.load('raiders/{subj}_run01_lh.npy'.format(subj=subj)))\n",
    "    ds.fa['node_indices'] = np.arange(ds.shape[1], dtype=int)\n",
    "    zscore(ds, chunks_attr=None)\n",
    "    dss_test.append(ds)"
   ]
  },
  {
   "cell_type": "code",
   "execution_count": 3,
   "metadata": {},
   "outputs": [
    {
     "name": "stdout",
     "output_type": "stream",
     "text": [
      "(336, 10242)\n",
      "(336, 10242)\n"
     ]
    }
   ],
   "source": [
    "# Each run has 336 time points and 10242 features per subject.\n",
    "print(dss_train[0].shape)\n",
    "print(dss_test[0].shape)"
   ]
  },
  {
   "cell_type": "markdown",
   "metadata": {},
   "source": [
    "## 3. Create SearchlightHyperalignment instance"
   ]
  },
  {
   "cell_type": "markdown",
   "metadata": {},
   "source": [
    "The QueryEngine is used to find voxel/vertices within a searchlight. This SurfaceQueryEngine use a searchlight radius of 5 mm based on the fsaverage surface."
   ]
  },
  {
   "cell_type": "code",
   "execution_count": 4,
   "metadata": {},
   "outputs": [
    {
     "name": "stderr",
     "output_type": "stream",
     "text": [
      "/opt/conda/envs/py27/lib/python2.7/site-packages/mvpa2/support/nibabel/surf_gifti.py:50: DeprecationWarning: giftiio.read function deprecated. Use nibabel.load() instead.\n",
      "\n",
      "* deprecated from version: 2.1\n",
      "* Will raise <class 'nibabel.deprecator.ExpiredDeprecationError'> as of version: 4.0\n",
      "  g = giftiio.read(fn)\n",
      "/opt/conda/envs/py27/lib/python2.7/site-packages/mvpa2/support/nibabel/surf_gifti.py:24: DeprecationWarning: getArraysFromIntent method deprecated. Use get_arrays_from_intent instead.\n",
      "\n",
      "* deprecated from version: 2.1\n",
      "* Will raise <class 'nibabel.deprecator.ExpiredDeprecationError'> as of version: 4.0\n",
      "  ar = g.getArraysFromIntent(intent)\n"
     ]
    }
   ],
   "source": [
    "sl_radius = 5.0\n",
    "qe = SurfaceQueryEngine(read_surface('fsaverage.lh.surf.gii'), radius=sl_radius)"
   ]
  },
  {
   "cell_type": "code",
   "execution_count": 5,
   "metadata": {},
   "outputs": [],
   "source": [
    "hyper = SearchlightHyperalignment(\n",
    "    queryengine=qe,\n",
    "    compute_recon=False, # We don't need to project back from common space to subject space\n",
    "    nproc=1, # Number of processes to use. Change \"Docker - Preferences - Advanced - CPUs\" accordingly.\n",
    ")"
   ]
  },
  {
   "cell_type": "markdown",
   "metadata": {},
   "source": [
    "## 4. Create common template space with training data\n",
    "This step may take a long time.  In my case it's 10 minutes with `nproc=1`."
   ]
  },
  {
   "cell_type": "code",
   "execution_count": 6,
   "metadata": {},
   "outputs": [],
   "source": [
    "# mappers = hyper(dss_train)\n",
    "# h5save('mappers.hdf5.gz', mappers, compression=9)\n",
    "\n",
    "mappers = h5load('mappers.hdf5.gz') # load pre-computed mappers"
   ]
  },
  {
   "cell_type": "markdown",
   "metadata": {},
   "source": [
    "## 5. Project testing data to the common space"
   ]
  },
  {
   "cell_type": "code",
   "execution_count": 7,
   "metadata": {},
   "outputs": [],
   "source": [
    "dss_aligned = [mapper.forward(ds) for ds, mapper in zip(dss_test, mappers)]\n",
    "_ = [zscore(ds, chunks_attr=None) for ds in dss_aligned]"
   ]
  },
  {
   "cell_type": "markdown",
   "metadata": {},
   "source": [
    "## 6. Benchmark inter-subject correlations"
   ]
  },
  {
   "cell_type": "code",
   "execution_count": 8,
   "metadata": {
    "collapsed": true
   },
   "outputs": [],
   "source": [
    "def compute_average_similarity(dss, metric='correlation'):\n",
    "    \"\"\"\n",
    "    Returns\n",
    "    =======\n",
    "    sim : ndarray\n",
    "        A 1-D array with n_features elements, each element is the average\n",
    "        pairwise correlation similarity on the corresponding feature.\n",
    "    \"\"\"\n",
    "    n_features = dss[0].shape[1]\n",
    "    sim = np.zeros((n_features, ))\n",
    "    for i in range(n_features):\n",
    "        data = np.array([ds.samples[:, i] for ds in dss])\n",
    "        dist = pdist(data, metric)\n",
    "        sim[i] = 1 - dist.mean()\n",
    "    return sim"
   ]
  },
  {
   "cell_type": "code",
   "execution_count": 9,
   "metadata": {},
   "outputs": [],
   "source": [
    "sim_test = compute_average_similarity(dss_test)\n",
    "sim_aligned = compute_average_similarity(dss_aligned)"
   ]
  },
  {
   "cell_type": "code",
   "execution_count": 10,
   "metadata": {},
   "outputs": [
    {
     "data": {
      "image/png": "[encoded data removed]",
      "text/plain": [
       "<matplotlib.figure.Figure at 0x7fe8de933990>"
      ]
     },
     "metadata": {},
     "output_type": "display_data"
    }
   ],
   "source": [
    "plt.figure(figsize=(6, 6))\n",
    "plt.scatter(sim_test, sim_aligned)\n",
    "plt.xlim([-.2, .5])\n",
    "plt.ylim([-.2, .5])\n",
    "plt.xlabel('Surface alignment', size='xx-large')\n",
    "plt.ylabel('SL Hyperalignment', size='xx-large')\n",
    "plt.title('Average pairwise correlation', size='xx-large')\n",
    "plt.plot([-1, 1], [-1, 1], 'k--')\n",
    "plt.show()"
   ]
  },
  {
   "cell_type": "markdown",
   "metadata": {},
   "source": [
    "## 7. Benchmark movie segment classifications"
   ]
  },
  {
   "cell_type": "code",
   "execution_count": 11,
   "metadata": {
    "collapsed": true
   },
   "outputs": [],
   "source": [
    "def movie_segment_classification_no_overlap(dss, window_size=6, dist_metric='correlation'):\n",
    "    \"\"\"\n",
    "    Parameters\n",
    "    ==========\n",
    "    dss : list of ndarray or Datasets\n",
    "    window_size : int, optional\n",
    "    dist_metric : str, optional\n",
    "\n",
    "    Returns\n",
    "    =======\n",
    "    cv_results : ndarray\n",
    "        An n_subjects x n_segments boolean array, 1 means correct classification.\n",
    "    \"\"\"\n",
    "    dss = [ds.samples if hasattr(ds, 'samples') else ds for ds in dss]\n",
    "    def flattern_movie_segment(ds, window_size=6):\n",
    "        n_seg = ds.shape[0] // window_size\n",
    "        ds = ds[:n_seg*window_size, :].reshape((n_seg, window_size, -1))\n",
    "        ds = ds.reshape((n_seg, -1))\n",
    "        return ds\n",
    "    dss = [flattern_movie_segment(ds, window_size=window_size) for ds in dss]\n",
    "    n_subj, n_seg = len(dss), dss[0].shape[0]\n",
    "    ds_sum = np.sum(dss, axis=0)\n",
    "    cv_results = np.zeros((n_subj, n_seg), dtype=bool)\n",
    "    for i, ds in enumerate(dss):\n",
    "        dist = cdist(ds, (ds_sum - ds) / float(n_subj - 1), dist_metric)\n",
    "        predicted = np.argmin(dist, axis=1)\n",
    "        acc = (predicted == np.arange(n_seg))\n",
    "        cv_results[i, :] = acc\n",
    "    return cv_results"
   ]
  },
  {
   "cell_type": "code",
   "execution_count": 12,
   "metadata": {},
   "outputs": [
    {
     "name": "stdout",
     "output_type": "stream",
     "text": [
      "Classification accuracy with surface alignment: 59.5%\n",
      "Classification accuracy with SL hyperalignment: 69.6%\n"
     ]
    }
   ],
   "source": [
    "acc_test = movie_segment_classification_no_overlap(dss_test)\n",
    "acc_aligned = movie_segment_classification_no_overlap(dss_aligned)\n",
    "print('Classification accuracy with surface alignment: %.1f%%' % (acc_test.mean()*100, ))\n",
    "print('Classification accuracy with SL hyperalignment: %.1f%%' % (acc_aligned.mean()*100, ))"
   ]
  },
  {
   "cell_type": "code",
   "execution_count": 13,
   "metadata": {},
   "outputs": [
    {
     "name": "stdout",
     "output_type": "stream",
     "text": [
      "('Classification accuracy with surface alignment per subject:', array([ 0.5       ,  0.60714286,  0.67857143]))\n",
      "('Classification accuracy with SL hyperalignment per subject:', array([ 0.64285714,  0.66071429,  0.78571429]))\n"
     ]
    }
   ],
   "source": [
    "print('Classification accuracy with surface alignment per subject:', acc_test.mean(axis=1))\n",
    "print('Classification accuracy with SL hyperalignment per subject:', acc_aligned.mean(axis=1))"
   ]
  },
  {
   "cell_type": "markdown",
   "metadata": {},
   "source": [
    "## Extras\n",
    "\n",
    "If you have completed all the practices above and want to try more, here are some possible options:\n",
    "\n",
    "### 1\n",
    "\n",
    "Try to apply this method to your own surface data.  For example, you can create a common template space with movie data and project retinotopic data to the common space.  Gifti files can be loaded using `mvpa2.datasets.gifti.gifti_dataset`.\n",
    "\n",
    "### 2\n",
    "\n",
    "Try to use ROI hyperalignment (`mvpa2.algorithms.hyperalignment.Hyperalignment`) instead of searchlight hyperalignment, and compare computation time and results.\n",
    "\n",
    "### 3\n",
    "\n",
    "Read (and practice) more with the more content-rich hyperalignment tutorial http://nbviewer.jupyter.org/url/www.pymvpa.org/notebooks/hyperalignment.ipynb\n",
    "\n",
    "Data can be downloaded from http://data.pymvpa.org/datasets/hyperalignment_tutorial_data/hyperalignment_tutorial_data.hdf5.gz\n"
   ]
  },
  {
   "cell_type": "code",
   "execution_count": null,
   "metadata": {
    "collapsed": true
   },
   "outputs": [],
   "source": []
  }
 ],
 "metadata": {
  "kernelspec": {
   "display_name": "Python 2",
   "language": "python",
   "name": "python2"
  },
  "language_info": {
   "codemirror_mode": {
    "name": "ipython",
    "version": 2
   },
   "file_extension": ".py",
   "mimetype": "text/x-python",
   "name": "python",
   "nbconvert_exporter": "python",
   "pygments_lexer": "ipython2",
   "version": "2.7.13"
  }
 },
 "nbformat": 4,
 "nbformat_minor": 2
}
